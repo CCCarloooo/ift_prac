{
 "cells": [
  {
   "cell_type": "code",
   "execution_count": 2,
   "metadata": {},
   "outputs": [
    {
     "name": "stdout",
     "output_type": "stream",
     "text": [
      "Collecting json_lines\n",
      "  Downloading json_lines-0.5.0-py2.py3-none-any.whl (6.8 kB)\n",
      "Requirement already satisfied: six in ./.conda/envs/pytorch/lib/python3.10/site-packages (from json_lines) (1.16.0)\n",
      "Installing collected packages: json_lines\n",
      "Successfully installed json_lines-0.5.0\n",
      "Note: you may need to restart the kernel to use updated packages.\n"
     ]
    }
   ],
   "source": [
    "pip install json_lines"
   ]
  },
  {
   "cell_type": "markdown",
   "metadata": {},
   "source": [
    "/home/mengxiangdi/grade-school-math/grade_school_math/data/train.jsonl"
   ]
  },
  {
   "cell_type": "code",
   "execution_count": null,
   "metadata": {},
   "outputs": [],
   "source": []
  },
  {
   "cell_type": "code",
   "execution_count": 1,
   "metadata": {},
   "outputs": [],
   "source": [
    "import json_lines\n",
    "\n",
    "gpt4_data = json_lines.reader(open('/home/mengxiangdi/grade-school-math/grade_school_math/data/train.jsonl'))\n"
   ]
  },
  {
   "cell_type": "code",
   "execution_count": 15,
   "metadata": {},
   "outputs": [],
   "source": [
    "import json_lines\n",
    "\n",
    "lis = []\n",
    "with open('/home/mengxiangdi/grade-school-math/grade_school_math/data/train.jsonl', 'rb') as f: \n",
    "   for item in json_lines.reader(f):\n",
    "      lis.append(item)\n"
   ]
  },
  {
   "cell_type": "code",
   "execution_count": 11,
   "metadata": {},
   "outputs": [],
   "source": [
    "import json_lines\n",
    "\n",
    "test = {}\n",
    "with open('/home/mengxiangdi/grade-school-math/grade_school_math/data/train.jsonl', 'rb') as f: \n",
    "   for item in json_lines.reader(f):\n",
    "      test.update(item)\n",
    "\n"
   ]
  },
  {
   "cell_type": "code",
   "execution_count": 12,
   "metadata": {},
   "outputs": [],
   "source": [
    "data_case = test"
   ]
  },
  {
   "cell_type": "code",
   "execution_count": 17,
   "metadata": {},
   "outputs": [
    {
     "name": "stdout",
     "output_type": "stream",
     "text": [
      "Natalia sold 48/2 = <<48/2=24>>24 clips in May.\n",
      "Natalia sold 48+24 = <<48+24=72>>72 clips altogether in April and May.\n",
      "#### 72\n"
     ]
    }
   ],
   "source": [
    "print(lis[0]['answer'])"
   ]
  },
  {
   "cell_type": "code",
   "execution_count": 21,
   "metadata": {},
   "outputs": [
    {
     "name": "stdout",
     "output_type": "stream",
     "text": [
      "{'id': 'conv_7472', 'conversations': [{'from': 'human', 'value': 'At 30, Anika is 4/3 the age of Maddie. What would be their average age in 15 years?'}, {'from': 'gpt', 'value': \"If Anika is 30 now, in 15 years, she'll be 30+15=<<30+15=45>>45 years old.\\nAt 30, Anika is 4/3 the age of Maddie, meaning Maddie is 4/3*30=<<4/3*30=40>>40 years.\\nIn 15 years, Maddie will be 40+15=<<40+15=55>>55 years old.\\nTheir total age in 15 years will be 55+45=<<55+45=100>>100\\nTheir average age in 15 years will be 100/2=<<100/2=50>>50\\n#### 50\"}]}\n"
     ]
    }
   ],
   "source": [
    "for i, x in enumerate(lis):\n",
    "    gpt_str = item['answer']\n",
    "    human_str = item['question']\n",
    "    conversation = {\n",
    "        'id': f'conv_{i}',\n",
    "        'conversations': [\n",
    "            {\n",
    "                'from': 'human',\n",
    "                'value': human_str,\n",
    "            },\n",
    "            {\n",
    "                'from': 'gpt',\n",
    "                'value': gpt_str\n",
    "            }\n",
    "        ]\n",
    "    }\n",
    "print(conversation)"
   ]
  },
  {
   "cell_type": "markdown",
   "metadata": {},
   "source": [
    "{'id': 'conv_7472', 'conversations': [{'from': 'human', 'value': 'At 30, Anika is 4/3 the age of Maddie. What would be their average age in 15 years?'}, {'from': 'gpt', 'value': \"If Anika is 30 now, in 15 years, she'll be 30+15=<<30+15=45>>45 years old.\\nAt 30, Anika is 4/3 the age of Maddie, meaning Maddie is 4/3*30=<<4/3*30=40>>40 years.\\nIn 15 years, Maddie will be 40+15=<<40+15=55>>55 years old.\\nTheir total age in 15 years will be 55+45=<<55+45=100>>100\\nTheir average age in 15 years will be 100/2=<<100/2=50>>50\\n#### 50\"}]}\n"
   ]
  },
  {
   "cell_type": "code",
   "execution_count": 3,
   "metadata": {},
   "outputs": [],
   "source": [
    "import json\n",
    "gpt4_data = json.load(open('/home/mengxiangdi/archive/SAIL/data/alpaca_gpt4_data.json'))\n"
   ]
  },
  {
   "cell_type": "code",
   "execution_count": null,
   "metadata": {},
   "outputs": [],
   "source": []
  }
 ],
 "metadata": {
  "kernelspec": {
   "display_name": "pytorch",
   "language": "python",
   "name": "python3"
  },
  "language_info": {
   "codemirror_mode": {
    "name": "ipython",
    "version": 3
   },
   "file_extension": ".py",
   "mimetype": "text/x-python",
   "name": "python",
   "nbconvert_exporter": "python",
   "pygments_lexer": "ipython3",
   "version": "3.10.12"
  }
 },
 "nbformat": 4,
 "nbformat_minor": 2
}
